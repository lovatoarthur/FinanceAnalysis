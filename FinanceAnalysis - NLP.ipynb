{
 "cells": [
  {
   "cell_type": "markdown",
   "id": "cba7f06b",
   "metadata": {},
   "source": [
    "### Importing packages, loading data and creating functions"
   ]
  },
  {
   "cell_type": "code",
   "execution_count": 9,
   "id": "3cd3f07d",
   "metadata": {},
   "outputs": [],
   "source": [
    "import pandas as pd               # Library for reading files \n",
    "import string                     # working with strings\n",
    "import re                         # regular expressions\n",
    "import numpy as np\n",
    "import matplotlib.pyplot as plt\n",
    "import seaborn as sns\n",
    "\n",
    "import nltk                       # Natural Language Toolkit\n",
    "from nltk.corpus import stopwords # stop words\n",
    "from nltk.stem.porter import PorterStemmer # PoterStemmer\n",
    "from nltk.corpus import wordnet            # Wordnet\n",
    "from nltk.stem import WordNetLemmatizer    # lemmatizer\n",
    "from nltk.tokenize import word_tokenize\n",
    "\n",
    "from collections import Counter            # \n",
    "\n",
    "import gensim #vectorization package\n",
    "from gensim.models.doc2vec import Doc2Vec, TaggedDocument #vectorization neural net \n",
    "from gensim.models import Word2Vec #vectorization neural net\n",
    "from gensim.models.phrases import Phrases, Phraser #phraser do collect bigrams\n",
    "\n",
    "from sklearn.model_selection import train_test_split\n",
    "from sklearn.linear_model import SGDClassifier\n",
    "from sklearn.linear_model import LogisticRegression\n",
    "from sklearn.preprocessing import scale\n",
    "from sklearn.metrics import confusion_matrix\n",
    "from sklearn.model_selection import cross_val_score"
   ]
  },
  {
   "cell_type": "code",
   "execution_count": 2,
   "id": "d5dd6e91",
   "metadata": {},
   "outputs": [],
   "source": [
    "data = pd.read_csv('unprocessed data.csv', sep=';', encoding='latin-1',header =0)\n",
    "#print(data.shape)\n",
    "#print(\"COLUMN NAMES\" , data.columns)\n",
    "#print(data.info())"
   ]
  },
  {
   "cell_type": "code",
   "execution_count": 3,
   "id": "88636897",
   "metadata": {},
   "outputs": [],
   "source": [
    "stopword = nltk.corpus.stopwords.words('english')\n",
    "STOPWORDS = set(stopwords.words('english'))\n",
    "stemmer = PorterStemmer()\n",
    "lemmatizer = WordNetLemmatizer()\n",
    "wordnet_map = {\"N\":wordnet.NOUN, \"V\":wordnet.VERB, \"J\":wordnet.ADJ, \"R\":wordnet.ADV}\n",
    "\n",
    "def brief_cleaning(text):\n",
    "    \"\"\"makes all text lower case and removes punctuation\"\"\"\n",
    "    \n",
    "    text  = \"\".join([char for char in text if char not in string.punctuation])\n",
    "    text = re.sub('[0-9]+', '', text).lower()\n",
    "    return text\n",
    "\n",
    "def remove_stopwords(text, STOPWORDS):\n",
    "    \"\"\"custom function to remove the stopwords\"\"\"\n",
    "    return \" \".join([word for word in str(text).split() if word not in STOPWORDS])\n",
    "\n",
    "def stem_words(text, stemmer):\n",
    "    return \" \".join([stemmer.stem(word) for word in text.split()])\n",
    "\n",
    "def lemmatize_words(text, lemmatizer, wordnet_map ):\n",
    "    pos_tagged_text = nltk.pos_tag(text.split())\n",
    "    return \" \".join([lemmatizer.lemmatize(word, wordnet_map.get(pos[0], wordnet.NOUN)) for word, pos in pos_tagged_text])"
   ]
  },
  {
   "cell_type": "code",
   "execution_count": 4,
   "id": "778bc8f0",
   "metadata": {},
   "outputs": [],
   "source": [
    "def tag_docs(x):\n",
    "    \"\"\"this function takes a list of lists (each word in an element on the inside list) and returns a tagged document, \n",
    "    that is necessary for the doc2vec model\"\"\"\n",
    "    \n",
    "    return [TaggedDocument(words=_d, tags=[str(i)]) for i, _d in enumerate(x)]"
   ]
  },
  {
   "cell_type": "code",
   "execution_count": 5,
   "id": "1cd40571",
   "metadata": {},
   "outputs": [],
   "source": [
    "def train_doc2vec_model(tagged_docs, vector_size, min_count):\n",
    "    \"\"\"this functions tkaes the tagged documents, vector_size and min_count and returns the model trained.\n",
    "    The model can be used to predict the vectors of the documents on the training and testing set\n",
    "    \n",
    "    vector_size =  Dimensionality of the feature vectors.\n",
    "    min_count =  Ignores all words with total frequency lower than this.\n",
    "    \"\"\"\n",
    "    \n",
    "    doc2vec_model = Doc2Vec(vector_size=vector_size, min_count=min_count, epochs=40)\n",
    "    doc2vec_model.build_vocab(tagged_docs)\n",
    "    doc2vec_model.train(tagged_docs, total_examples=doc2vec_model.corpus_count, epochs=doc2vec_model.epochs)\n",
    "    \n",
    "    return doc2vec_model"
   ]
  },
  {
   "cell_type": "code",
   "execution_count": 6,
   "id": "ee55da9d",
   "metadata": {},
   "outputs": [],
   "source": [
    "def infer_vectors(doc2vec_model, docs):\n",
    "    \"\"\"this function takes the model and a list of documents (where each document is a list of words) and\n",
    "    returns the predicted vector for it\"\"\"\n",
    "    \n",
    "    vectors = []\n",
    "    for vec in docs:\n",
    "        vectors.append(doc2vec_model.infer_vector(vec))\n",
    "        \n",
    "    return vectors"
   ]
  },
  {
   "cell_type": "markdown",
   "id": "75cac209",
   "metadata": {},
   "source": [
    "### Pre-processing the data"
   ]
  },
  {
   "cell_type": "code",
   "execution_count": 92,
   "id": "8d008f40",
   "metadata": {},
   "outputs": [],
   "source": [
    "#remove punctuation and make all lower case\n",
    "data['Sentence'] = data['Sentence'].apply(lambda text: brief_cleaning(text))\n",
    "\n",
    "#remove first set of stopwords\n",
    "data['Sentence'] = data['Sentence'].apply(lambda text: remove_stopwords(text, STOPWORDS))\n",
    "\n",
    "#remove second set of stopwords\n",
    "data['Sentence'] = data['Sentence'].apply(lambda text: remove_stopwords(text, stopword))\n",
    "\n",
    "#applying lemmatize\n",
    "data['Sentence'] = data['Sentence'].apply(lambda text: lemmatize_words(text, lemmatizer, wordnet_map))\n",
    "\n",
    "#selecting the words in the sentences\n",
    "sents = [row.split(' ') for row in data['Sentence']]\n",
    "\n",
    "#select bigram\n",
    "phrases = Phrases(sents, min_count=30, progress_per=10000)\n",
    "bigram = Phraser(phrases)\n",
    "sentences = bigram[sents]\n",
    "\n",
    "#set x as a list of documents, where each document is a list of words\n",
    "x = sentences\n",
    "\n",
    "#Convert sting to numeric\n",
    "sentiment  = {'positive': 0,'neutral': 1,'negative':2} \n",
    "y = [sentiment[item] for item in data.Sentiment] \n",
    "#y = data.Sentiment"
   ]
  },
  {
   "cell_type": "code",
   "execution_count": 20,
   "id": "0853c87a",
   "metadata": {},
   "outputs": [
    {
     "data": {
      "image/png": "[encoded data removed]",
      "text/plain": [
       "<Figure size 432x288 with 1 Axes>"
      ]
     },
     "metadata": {
      "needs_background": "light"
     },
     "output_type": "display_data"
    }
   ],
   "source": [
    "#here we plot the data and we can see that the data is unbalanced... later in the analysis we will try to balance it\n",
    "data.Sentiment.value_counts().plot(kind = 'bar')\n",
    "plt.title('Number of observations for each class')\n",
    "plt.ylabel('Count')\n",
    "plt.xlabel('Sentiment')\n",
    "plt.show()"
   ]
  },
  {
   "cell_type": "markdown",
   "id": "bb681161",
   "metadata": {},
   "source": [
    "### Doc2Vec"
   ]
  },
  {
   "cell_type": "code",
   "execution_count": 93,
   "id": "c61b2b58",
   "metadata": {},
   "outputs": [],
   "source": [
    "#first we divide the data into training and testing - usage of stratify to keep the balance.\n",
    "x_train, x_test, y_train, y_test = train_test_split(x, y, test_size = 0.2, stratify = y)"
   ]
  },
  {
   "cell_type": "code",
   "execution_count": 94,
   "id": "20fd7cf9",
   "metadata": {},
   "outputs": [],
   "source": [
    "#2nd we have to set x_train as a tagged doc, bc it will be used to train the doc2vec\n",
    "x_train_tagged = tag_docs(x_train)"
   ]
  },
  {
   "cell_type": "markdown",
   "id": "44a7bef0",
   "metadata": {},
   "source": [
    "`X = df_new['essay_content']`\n",
    "\n",
    "`y = df_new['label']`\n",
    "\n",
    "`X_train, X_test, y_train, y_test = train_test_split(X, y)`\n",
    "\n",
    "`vectorizer = TfidfVectorizer(stop_words='english')`\n",
    "\n",
    "`X_train_dtm = vectorizer.fit_transform(X_train)`\n",
    "\n",
    "`X_test_dtm = vectorizer.transform(X_test)`\n",
    "\n",
    "`clf_lr = LogisticRegression()`\n",
    "\n",
    "`clf_lr.fit(X_train_dtm, y_train)`\n",
    "\n",
    "`y_pred = clf_lr.predict(X_test_dtm)`\n",
    "\n",
    "\n",
    "\"In the code example above we would split the document set into training and testing, and then use ONLY training documents to build the term collection. This way, we are making sure that the classifier trained on the training tf-idf matrix is generalizing well.\n",
    "\n",
    "Therefore, I feel that doc2vec workflow should follow the same general principal, i.e. to train (build vocabulary) the doc2vec ONLY using training documents\"\n",
    "\n",
    "- source: https://fzr72725.github.io/2018/01/14/genism-guide.html"
   ]
  },
  {
   "cell_type": "code",
   "execution_count": 95,
   "id": "0782d653",
   "metadata": {},
   "outputs": [],
   "source": [
    "#now we will train the doc2vec on the training data\n",
    "doc2vec_model = train_doc2vec_model(x_train_tagged, vector_size = 50, min_count = 1)"
   ]
  },
  {
   "cell_type": "code",
   "execution_count": 96,
   "id": "69f1b32f",
   "metadata": {},
   "outputs": [],
   "source": [
    "#here we will infer the vector values for for x_train and x_test.\n",
    "#we have to use the un-tagged x_train\n",
    "x_train_vectors = infer_vectors(doc2vec_model, x_train)\n",
    "x_test_vectors = infer_vectors(doc2vec_model, x_test)"
   ]
  },
  {
   "cell_type": "markdown",
   "id": "e7621253",
   "metadata": {},
   "source": [
    "\"This is one of the most confusing parts for me in the doc2vec training process. Many code examples did not use infer_vector() to “retrain” the document vectors. Instead, they used the trained vectors from the doc2vec_model directly as the final vector matrix. I think this is also one of the motivations for people to assign a unique tag to each document as I mentioned earlier.\n",
    "\n",
    "I personally found it more reasonable to use infer_vector() to “retrain” the document vector. Reason being: “You could certainly use the vectors learned during training. But note that during much of their 20-training-passes, the model itself was still undergoing rapid change, and was far from its final state. I’ve sometimes seen that re-inferred vectors, often work better for downstream tasks. This is perhaps because then all 20-inference-passes, across all re-inferred vectors, equally benefit from the same final frozen model state”, quoted Gordon Mohr from a Google group Q&A.\"\n",
    "\n",
    "- source: https://fzr72725.github.io/2018/01/14/genism-guide.html"
   ]
  },
  {
   "cell_type": "code",
   "execution_count": 97,
   "id": "2df7d21c",
   "metadata": {},
   "outputs": [
    {
     "name": "stdout",
     "output_type": "stream",
     "text": [
      "Test Accuracy: 0.62069\n"
     ]
    }
   ],
   "source": [
    "#now that we have both x_train and x_test vectorized we can train our classification model\n",
    "\n",
    "lr_not_os = LogisticRegression(multi_class='multinomial', solver='lbfgs')\n",
    "lr_not_os.fit(x_train_vectors, y_train)\n",
    "\n",
    "y_pred_not_os = lr_not_os.predict(x_test_vectors)\n",
    "\n",
    "print ('Test Accuracy: %.5f'%lr_not_os.score(x_test_vectors, y_test))"
   ]
  },
  {
   "cell_type": "code",
   "execution_count": 116,
   "id": "58bf0e8c",
   "metadata": {},
   "outputs": [
    {
     "data": {
      "text/plain": [
       "0.46827017963036405"
      ]
     },
     "execution_count": 116,
     "metadata": {},
     "output_type": "execute_result"
    }
   ],
   "source": [
    "from sklearn.metrics import recall_score\n",
    "\n",
    "recall_score(y_test, y_pred_not_os, average = 'macro')"
   ]
  },
  {
   "cell_type": "code",
   "execution_count": 129,
   "id": "4f2a6ac9",
   "metadata": {},
   "outputs": [
    {
     "data": {
      "text/plain": [
       "array([[163, 191,  12],\n",
       "       [ 72, 541,  13],\n",
       "       [ 57,  95,  16]], dtype=int64)"
      ]
     },
     "execution_count": 129,
     "metadata": {},
     "output_type": "execute_result"
    }
   ],
   "source": [
    "confusion_matrix(y_test, y_pred_not_os)"
   ]
  },
  {
   "cell_type": "markdown",
   "id": "1fb4f4b3",
   "metadata": {},
   "source": [
    "### Trying to optimize the vector_size"
   ]
  },
  {
   "cell_type": "code",
   "execution_count": 27,
   "id": "527aeab7",
   "metadata": {},
   "outputs": [
    {
     "name": "stdout",
     "output_type": "stream",
     "text": [
      "Test Accuracy: 0.59138\n",
      "Vector size: 10\n",
      "[[145 203  18]\n",
      " [ 90 518  18]\n",
      " [ 48  97  23]]\n",
      "time: 22.619375228881836\n",
      "\n",
      "\n",
      "Test Accuracy: 0.59310\n",
      "Vector size: 50\n",
      "[[152 197  17]\n",
      " [ 91 515  20]\n",
      " [ 56  91  21]]\n",
      "time: 47.930750131607056\n",
      "\n",
      "\n",
      "Test Accuracy: 0.58966\n",
      "Vector size: 90\n",
      "[[147 204  15]\n",
      " [ 88 518  20]\n",
      " [ 49 100  19]]\n",
      "time: 71.18521165847778\n",
      "\n",
      "\n",
      "Test Accuracy: 0.59310\n",
      "Vector size: 130\n",
      "[[153 198  15]\n",
      " [ 92 514  20]\n",
      " [ 53  94  21]]\n",
      "time: 93.72764587402344\n",
      "\n",
      "\n",
      "Test Accuracy: 0.60000\n",
      "Vector size: 170\n",
      "[[157 193  16]\n",
      " [ 87 520  19]\n",
      " [ 55  94  19]]\n",
      "time: 116.14655804634094\n",
      "\n",
      "\n",
      "Test Accuracy: 0.59914\n",
      "Vector size: 210\n",
      "[[154 193  19]\n",
      " [ 89 518  19]\n",
      " [ 51  94  23]]\n",
      "time: 138.5702829360962\n",
      "\n",
      "\n",
      "Test Accuracy: 0.59052\n",
      "Vector size: 250\n",
      "[[150 199  17]\n",
      " [ 89 515  22]\n",
      " [ 53  95  20]]\n",
      "time: 161.23874926567078\n",
      "\n",
      "\n",
      "Test Accuracy: 0.58966\n",
      "Vector size: 290\n",
      "[[145 204  17]\n",
      " [ 87 520  19]\n",
      " [ 55  94  19]]\n",
      "time: 183.96789002418518\n",
      "\n",
      "\n",
      "Test Accuracy: 0.58879\n",
      "Vector size: 330\n",
      "[[146 202  18]\n",
      " [ 92 517  17]\n",
      " [ 49  99  20]]\n",
      "time: 207.43958568572998\n",
      "\n",
      "\n"
     ]
    }
   ],
   "source": [
    "#Now I'll try to optimize the vector size, doing a loop between 50 and 300\n",
    "vect_sizes = np.arange(10, 350, 40)\n",
    "models = []\n",
    "scores = []\n",
    "conf_matrixes = []\n",
    "\n",
    "import time\n",
    "start = time.time()\n",
    "\n",
    "for vec in vect_sizes:\n",
    "    #initiate and train the model\n",
    "    model = train_doc2vec_model(x_train_tagged, vector_size = vec, min_count = 1)\n",
    "    #predict training vectors\n",
    "    x_train_vectors = infer_vectors(doc2vec_model, x_train)\n",
    "    #predict testing vectors\n",
    "    x_test_vectors = infer_vectors(doc2vec_model, x_test)\n",
    "    #initiate classification model\n",
    "    lr = LogisticRegression(multi_class='multinomial', solver='lbfgs')\n",
    "    #fit training values\n",
    "    lr.fit(x_train_vectors, y_train)\n",
    "    \n",
    "    models.append(model)\n",
    "    scores.append(lr.score(x_test_vectors, y_test))\n",
    "    conf_matrixes.append(confusion_matrix(y_test, lr.predict(x_test_vectors)))\n",
    "    \n",
    "    #print score, vector size and how long it took\n",
    "    print ('Test Accuracy: %.5f'%lr.score(x_test_vectors, y_test))\n",
    "    print('Vector size: ' + str(vec))\n",
    "    print(confusion_matrix(y_test, lr.predict(x_test_vectors)))\n",
    "    print('time: ' + str(time.time()-start))\n",
    "    print('\\n')"
   ]
  },
  {
   "cell_type": "code",
   "execution_count": 47,
   "id": "5960612c",
   "metadata": {},
   "outputs": [
    {
     "data": {
      "image/png": "[encoded data removed]",
      "text/plain": [
       "<Figure size 432x288 with 1 Axes>"
      ]
     },
     "metadata": {
      "needs_background": "light"
     },
     "output_type": "display_data"
    }
   ],
   "source": [
    "sns.barplot(x = vect_sizes, y = scores, color= 'gray')\n",
    "plt.ylim(0,1)\n",
    "plt.title('Vector size influence on model accuracy')\n",
    "plt.xlabel('vector size')\n",
    "plt.ylabel('LogReg accuracy')\n",
    "plt.show()"
   ]
  },
  {
   "cell_type": "markdown",
   "id": "178e8d64",
   "metadata": {},
   "source": [
    "Looks like the size doesnt influence as much, we can see that the model doesnt perform good on positive and negatives, so lets try to resample"
   ]
  },
  {
   "cell_type": "markdown",
   "id": "27a04ff6",
   "metadata": {},
   "source": [
    "### Testing Oversampling the data"
   ]
  },
  {
   "cell_type": "code",
   "execution_count": 109,
   "id": "00ef5719",
   "metadata": {},
   "outputs": [],
   "source": [
    "#testing oversampling the data to get better accuracy\n",
    "class_positive = data[data['Sentiment'] == 'positive']\n",
    "class_negative = data[data['Sentiment'] == 'negative']\n",
    "class_neutral = data[data['Sentiment'] == 'neutral']\n",
    "\n",
    "class_count_neutral, class_count_positive, class_count_negative = data.Sentiment.value_counts()\n",
    "\n",
    "class_positive_over = class_positive.sample(class_count_neutral, replace = True)\n",
    "class_negative_over = class_negative.sample(class_count_neutral, replace = True)\n",
    "\n",
    "data_oversampled = pd.concat([class_positive_over, class_negative_over, class_neutral], axis=0)"
   ]
  },
  {
   "cell_type": "code",
   "execution_count": 110,
   "id": "97a4fe8a",
   "metadata": {},
   "outputs": [
    {
     "data": {
      "image/png": "[encoded data removed]",
      "text/plain": [
       "<Figure size 432x288 with 1 Axes>"
      ]
     },
     "metadata": {
      "needs_background": "light"
     },
     "output_type": "display_data"
    }
   ],
   "source": [
    "#now we can see that they all have the same amount of samples\n",
    "data_oversampled.Sentiment.value_counts().plot(kind='bar')\n",
    "plt.title('Number of observations for each class')\n",
    "plt.ylabel('Count')\n",
    "plt.xlabel('Sentiment')\n",
    "plt.show()"
   ]
  },
  {
   "cell_type": "code",
   "execution_count": 111,
   "id": "b000a9d3",
   "metadata": {},
   "outputs": [],
   "source": [
    "#doing some pre-processing again\n",
    "\n",
    "#selecting the words in the sentences\n",
    "sents = [row.split(' ') for row in data['Sentence']]\n",
    "sents_over = [row.split(' ') for row in data_oversampled['Sentence']]\n",
    "\n",
    "#select bigram\n",
    "phrases = Phrases(sents, min_count=30, progress_per=10000)\n",
    "bigram = Phraser(phrases)\n",
    "sentences_over = bigram[sents_over]\n",
    "\n",
    "#set x as a list of documents, where each document is a list of words\n",
    "x_over = sentences_over\n",
    "\n",
    "#Convert sting to numeric\n",
    "sentiment  = {'positive': 0,'neutral': 1,'negative':2} \n",
    "y_over = [sentiment[item] for item in data_oversampled.Sentiment] "
   ]
  },
  {
   "cell_type": "code",
   "execution_count": 62,
   "id": "a4287f73",
   "metadata": {},
   "outputs": [
    {
     "name": "stdout",
     "output_type": "stream",
     "text": [
      "Test Accuracy: 0.56230\n"
     ]
    }
   ],
   "source": [
    "#first we divide the data into training and testing - usage of stratify to keep the balance.\n",
    "x_train_over, x_test_over, y_train_over, y_test_over = train_test_split(x_over, y_over, test_size = 0.2, stratify = y_over)\n",
    "\n",
    "#2nd we have to set x_train as a tagged doc, bc it will be used to train the doc2vec\n",
    "x_train_tagged_over = tag_docs(x_train_over)\n",
    "\n",
    "#now we will train the doc2vec on the training data\n",
    "doc2vec_model = train_doc2vec_model(x_train_tagged_over, vector_size = 50, min_count = 1)\n",
    "\n",
    "#here we will infer the vector values for for x_train and x_test.\n",
    "#we have to use the un-tagged x_train\n",
    "x_train_vectors_over = infer_vectors(doc2vec_model, x_train_over)\n",
    "x_test_vectors_over = infer_vectors(doc2vec_model, x_test_over)\n",
    "\n",
    "#now that we have both x_train and x_test vectorized we can train our classification model\n",
    "lr_over = LogisticRegression(multi_class='multinomial', solver='lbfgs')\n",
    "lr_over.fit(x_train_vectors_over, y_train_over)\n",
    "print ('Test Accuracy: %.5f'%lr_over.score(x_test_vectors_over, y_test_over))"
   ]
  },
  {
   "cell_type": "code",
   "execution_count": 63,
   "id": "31735c81",
   "metadata": {},
   "outputs": [
    {
     "data": {
      "text/plain": [
       "array([[328, 161, 137],\n",
       "       [101, 400, 125],\n",
       "       [146, 152, 328]], dtype=int64)"
      ]
     },
     "execution_count": 63,
     "metadata": {},
     "output_type": "execute_result"
    }
   ],
   "source": [
    "confusion_matrix(y_test_over, lr.predict(x_test_vectors_over))"
   ]
  },
  {
   "cell_type": "markdown",
   "id": "d67b872a",
   "metadata": {},
   "source": [
    "Overall performance decreased, but the model predicts better positives and negatives (but this can happens bc we have the same data in training and testing - bc we oversampled with copies - so it can be overfitting)"
   ]
  },
  {
   "cell_type": "code",
   "execution_count": 63,
   "id": "025d6917",
   "metadata": {},
   "outputs": [
    {
     "name": "stdout",
     "output_type": "stream",
     "text": [
      "Test Accuracy: 0.56763\n",
      "Vector size: 10\n",
      "[[299 181 146]\n",
      " [103 408 115]\n",
      " [151 116 359]]\n",
      "time: 37.60954976081848\n",
      "\n",
      "\n",
      "Test Accuracy: 0.56443\n",
      "Vector size: 50\n",
      "[[303 173 150]\n",
      " [113 403 110]\n",
      " [144 128 354]]\n",
      "time: 73.83449745178223\n",
      "\n",
      "\n",
      "Test Accuracy: 0.56390\n",
      "Vector size: 90\n",
      "[[300 173 153]\n",
      " [108 404 114]\n",
      " [143 128 355]]\n",
      "time: 110.89501166343689\n",
      "\n",
      "\n",
      "Test Accuracy: 0.56390\n",
      "Vector size: 130\n",
      "[[298 173 155]\n",
      " [107 404 115]\n",
      " [147 122 357]]\n",
      "time: 148.92317652702332\n",
      "\n",
      "\n",
      "Test Accuracy: 0.56763\n",
      "Vector size: 170\n",
      "[[312 160 154]\n",
      " [110 400 116]\n",
      " [131 141 354]]\n",
      "time: 186.30771350860596\n",
      "\n",
      "\n",
      "Test Accuracy: 0.57135\n",
      "Vector size: 210\n",
      "[[296 178 152]\n",
      " [107 412 107]\n",
      " [137 124 365]]\n",
      "time: 223.3817641735077\n",
      "\n",
      "\n",
      "Test Accuracy: 0.57188\n",
      "Vector size: 250\n",
      "[[303 164 159]\n",
      " [106 414 106]\n",
      " [144 125 357]]\n",
      "time: 263.93087458610535\n",
      "\n",
      "\n",
      "Test Accuracy: 0.57029\n",
      "Vector size: 290\n",
      "[[301 179 146]\n",
      " [104 404 118]\n",
      " [142 118 366]]\n",
      "time: 302.46192240715027\n",
      "\n",
      "\n",
      "Test Accuracy: 0.56017\n",
      "Vector size: 330\n",
      "[[298 180 148]\n",
      " [108 400 118]\n",
      " [145 127 354]]\n",
      "time: 339.08267307281494\n",
      "\n",
      "\n"
     ]
    }
   ],
   "source": [
    "#Now I'll try to optimize the vector size, doing a loop between 50 and 300\n",
    "vect_sizes = np.arange(10, 350, 40)\n",
    "models_os = []\n",
    "scores_os = []\n",
    "conf_matrixes_os = []\n",
    "\n",
    "import time\n",
    "start = time.time()\n",
    "\n",
    "for vec in vect_sizes:\n",
    "    #initiate and train the model\n",
    "    model = train_doc2vec_model(x_train_tagged_over, vector_size = vec, min_count = 1)\n",
    "    #predict training vectors\n",
    "    x_train_vectors_over = infer_vectors(doc2vec_model, x_train_over)\n",
    "    #predict testing vectors\n",
    "    x_test_vectors_over = infer_vectors(doc2vec_model, x_test_over)\n",
    "    #initiate classification model\n",
    "    lr = LogisticRegression(multi_class='multinomial', solver='lbfgs')\n",
    "    #fit training values\n",
    "    lr.fit(x_train_vectors_over, y_train_over)\n",
    "    \n",
    "    models_os.append(model)\n",
    "    scores_os.append(lr.score(x_test_vectors_over, y_test_over))\n",
    "    conf_matrixes_os.append(confusion_matrix(y_test_over, lr.predict(x_test_vectors_over)))\n",
    "    \n",
    "    #print score, vector size and how long it took\n",
    "    print ('Test Accuracy: %.5f'%lr.score(x_test_vectors_over, y_test_over))\n",
    "    print('Vector size: ' + str(vec))\n",
    "    print(confusion_matrix(y_test, lr.predict(x_test_vectors_over)))\n",
    "    print('time: ' + str(time.time()-start))\n",
    "    print('\\n')"
   ]
  },
  {
   "cell_type": "markdown",
   "id": "e44d8d40",
   "metadata": {},
   "source": [
    "### Test scalling the vectors before classification model"
   ]
  },
  {
   "cell_type": "code",
   "execution_count": 64,
   "id": "08172ff3",
   "metadata": {},
   "outputs": [
    {
     "name": "stdout",
     "output_type": "stream",
     "text": [
      "Test Accuracy: 0.58520\n"
     ]
    }
   ],
   "source": [
    "#first we divide the data into training and testing - usage of stratify to keep the balance.\n",
    "x_train_over, x_test_over, y_train_over, y_test_over = train_test_split(x_over, y_over, test_size = 0.2, stratify = y_over)\n",
    "\n",
    "#2nd we have to set x_train as a tagged doc, bc it will be used to train the doc2vec\n",
    "x_train_tagged_over = tag_docs(x_train_over)\n",
    "\n",
    "#now we will train the doc2vec on the training data\n",
    "doc2vec_model = train_doc2vec_model(x_train_tagged_over, vector_size = 50, min_count = 1)\n",
    "\n",
    "#here we will infer the vector values for for x_train and x_test.\n",
    "#we have to use the un-tagged x_train\n",
    "x_train_vectors_over = infer_vectors(doc2vec_model, x_train_over)\n",
    "x_test_vectors_over = infer_vectors(doc2vec_model, x_test_over)\n",
    "\n",
    "x_train_vectors_over = scale(x_train_vectors_over)\n",
    "x_test_vectors_over = scale(x_test_vectors_over)\n",
    "\n",
    "#now that we have both x_train and x_test vectorized we can train our classification model\n",
    "lr = LogisticRegression(multi_class='multinomial', solver='lbfgs')\n",
    "lr.fit(x_train_vectors_over, y_train_over)\n",
    "print ('Test Accuracy: %.5f'%lr.score(x_test_vectors_over, y_test_over))"
   ]
  },
  {
   "cell_type": "code",
   "execution_count": 65,
   "id": "719b2497",
   "metadata": {},
   "outputs": [
    {
     "data": {
      "text/plain": [
       "array([[123,  80, 163],\n",
       "       [255, 138, 233],\n",
       "       [ 57,  35,  76]], dtype=int64)"
      ]
     },
     "execution_count": 65,
     "metadata": {},
     "output_type": "execute_result"
    }
   ],
   "source": [
    "confusion_matrix(y_test, lr.predict(x_test_vectors))"
   ]
  },
  {
   "cell_type": "markdown",
   "id": "70ef342e",
   "metadata": {},
   "source": [
    "### Testing different models"
   ]
  },
  {
   "cell_type": "code",
   "execution_count": 66,
   "id": "00b2baf9",
   "metadata": {},
   "outputs": [],
   "source": [
    "from sklearn.model_selection import GridSearchCV"
   ]
  },
  {
   "cell_type": "code",
   "execution_count": 67,
   "id": "999685cf",
   "metadata": {},
   "outputs": [],
   "source": [
    "#first we divide the data into training and testing - usage of stratify to keep the balance.\n",
    "x_train, x_test, y_train, y_test = train_test_split(x, y, test_size = 0.2, stratify = y)\n",
    "\n",
    "#2nd we have to set x_train as a tagged doc, bc it will be used to train the doc2vec\n",
    "x_train_tagged = tag_docs(x_train)\n",
    "\n",
    "#now we will train the doc2vec on the training data\n",
    "doc2vec_model = train_doc2vec_model(x_train_tagged, vector_size = 50, min_count = 1)\n",
    "\n",
    "#here we will infer the vector values for for x_train and x_test.\n",
    "#we have to use the un-tagged x_train\n",
    "x_train_vectors = infer_vectors(doc2vec_model, x_train)\n",
    "x_test_vectors = infer_vectors(doc2vec_model, x_test)\n",
    "\n"
   ]
  },
  {
   "cell_type": "code",
   "execution_count": 68,
   "id": "df58b90f",
   "metadata": {},
   "outputs": [
    {
     "data": {
      "text/plain": [
       "GridSearchCV(estimator=LogisticRegression(multi_class='multinomial'),\n",
       "             param_grid={'class_weight': [None, 'balanced'],\n",
       "                         'solver': ['newton-cg', 'sag', 'saga', 'lbfgs']})"
      ]
     },
     "execution_count": 68,
     "metadata": {},
     "output_type": "execute_result"
    }
   ],
   "source": [
    "#changing the parameters on the logistic regression\n",
    "\n",
    "params_lr = {'solver':['newton-cg', 'sag', 'saga', 'lbfgs'],\n",
    "         'class_weight':[None, 'balanced']}\n",
    "\n",
    "lr = LogisticRegression(multi_class='multinomial')\n",
    "\n",
    "gs_lr = GridSearchCV(lr, params_lr)\n",
    "\n",
    "gs_lr.fit(x_train_vectors, y_train)\n",
    "\n",
    "#print ('Test Accuracy: %.5f'%gs_lr.score(x_test_vectors, y_test))"
   ]
  },
  {
   "cell_type": "code",
   "execution_count": 69,
   "id": "d413a77c",
   "metadata": {},
   "outputs": [
    {
     "data": {
      "text/plain": [
       "{'class_weight': None, 'solver': 'newton-cg'}"
      ]
     },
     "execution_count": 69,
     "metadata": {},
     "output_type": "execute_result"
    }
   ],
   "source": [
    "#best estimator\n",
    "best_lr = gs_lr.best_estimator_\n",
    "\n",
    "gs_lr.best_params_"
   ]
  },
  {
   "cell_type": "code",
   "execution_count": 70,
   "id": "5861f0b6",
   "metadata": {},
   "outputs": [
    {
     "name": "stdout",
     "output_type": "stream",
     "text": [
      "Test Accuracy: 0.60172\n"
     ]
    }
   ],
   "source": [
    "print ('Test Accuracy: %.5f'%best_lr.score(x_test_vectors, y_test))"
   ]
  },
  {
   "cell_type": "code",
   "execution_count": 130,
   "id": "4e6f2028",
   "metadata": {},
   "outputs": [
    {
     "data": {
      "text/plain": [
       "GridSearchCV(estimator=SVC(),\n",
       "             param_grid={'class_weight': [None, 'balanced'],\n",
       "                         'decision_function_shape': ['ovo', 'ovr']})"
      ]
     },
     "execution_count": 130,
     "metadata": {},
     "output_type": "execute_result"
    }
   ],
   "source": [
    "#search params on SVC\n",
    "from sklearn.svm import SVC\n",
    "\n",
    "params_svc = {'class_weight':[None, 'balanced'],\n",
    "             'decision_function_shape':['ovo', 'ovr']}\n",
    "\n",
    "svc = SVC()\n",
    "\n",
    "gs_svc = GridSearchCV(svc, params_svc)\n",
    "\n",
    "gs_svc.fit(x_train_vectors, y_train)"
   ]
  },
  {
   "cell_type": "code",
   "execution_count": 131,
   "id": "270319ff",
   "metadata": {},
   "outputs": [
    {
     "data": {
      "text/plain": [
       "{'class_weight': None, 'decision_function_shape': 'ovo'}"
      ]
     },
     "execution_count": 131,
     "metadata": {},
     "output_type": "execute_result"
    }
   ],
   "source": [
    "#best estimator\n",
    "best_svc = gs_svc.best_estimator_\n",
    "\n",
    "gs_svc.best_params_"
   ]
  },
  {
   "cell_type": "code",
   "execution_count": 132,
   "id": "8073f07a",
   "metadata": {},
   "outputs": [
    {
     "name": "stdout",
     "output_type": "stream",
     "text": [
      "Test Accuracy: 0.64138\n"
     ]
    }
   ],
   "source": [
    "print ('Test Accuracy: %.5f'%best_svc.score(x_test_vectors, y_test))"
   ]
  },
  {
   "cell_type": "code",
   "execution_count": 133,
   "id": "21d0b6f4",
   "metadata": {},
   "outputs": [],
   "source": [
    "y_pred_svc = best_svc.predict(x_test_vectors)"
   ]
  },
  {
   "cell_type": "code",
   "execution_count": 134,
   "id": "624dd1f8",
   "metadata": {},
   "outputs": [
    {
     "data": {
      "text/plain": [
       "array([[167, 198,   1],\n",
       "       [ 51, 571,   4],\n",
       "       [ 56, 106,   6]], dtype=int64)"
      ]
     },
     "execution_count": 134,
     "metadata": {},
     "output_type": "execute_result"
    }
   ],
   "source": [
    "confusion_matrix(y_test, y_pred_svc)"
   ]
  },
  {
   "cell_type": "code",
   "execution_count": 121,
   "id": "a9d8209f",
   "metadata": {},
   "outputs": [
    {
     "data": {
      "text/plain": [
       "0.4706896551724138"
      ]
     },
     "execution_count": 121,
     "metadata": {},
     "output_type": "execute_result"
    }
   ],
   "source": [
    "#trying naive bayes classifier\n",
    "from sklearn.naive_bayes import GaussianNB\n",
    "\n",
    "gnb = GaussianNB()\n",
    "\n",
    "gnb.fit(x_train_vectors, y_train)\n",
    "gnb.score(x_test_vectors, y_test)"
   ]
  },
  {
   "cell_type": "code",
   "execution_count": 122,
   "id": "99c9129e",
   "metadata": {},
   "outputs": [
    {
     "data": {
      "text/plain": [
       "0.5956896551724138"
      ]
     },
     "execution_count": 122,
     "metadata": {},
     "output_type": "execute_result"
    }
   ],
   "source": [
    "#trying random forest class\n",
    "from sklearn.ensemble import RandomForestClassifier\n",
    "\n",
    "rfc = RandomForestClassifier(max_depth=20, random_state=0)\n",
    "\n",
    "rfc.fit(x_train_vectors, y_train)\n",
    "rfc.score(x_test_vectors, y_test)"
   ]
  },
  {
   "cell_type": "markdown",
   "id": "e4581fa3",
   "metadata": {},
   "source": [
    "The best model was SVC without class_weight and oVo approach"
   ]
  },
  {
   "cell_type": "code",
   "execution_count": 123,
   "id": "32a6b022",
   "metadata": {},
   "outputs": [
    {
     "data": {
      "text/plain": [
       "array([[165, 196,   5],\n",
       "       [ 50, 564,  12],\n",
       "       [ 57, 107,   4]], dtype=int64)"
      ]
     },
     "execution_count": 123,
     "metadata": {},
     "output_type": "execute_result"
    }
   ],
   "source": [
    "confusion_matrix(y_test, best_svc.predict(x_test_vectors))"
   ]
  },
  {
   "cell_type": "markdown",
   "id": "14ba9220",
   "metadata": {},
   "source": [
    "### Testing SVC with oversampled data"
   ]
  },
  {
   "cell_type": "code",
   "execution_count": 135,
   "id": "3d53b5e3",
   "metadata": {},
   "outputs": [
    {
     "name": "stdout",
     "output_type": "stream",
     "text": [
      "Test Accuracy: 0.72684\n"
     ]
    }
   ],
   "source": [
    "#first we divide the data into training and testing - usage of stratify to keep the balance.\n",
    "x_train_over, x_test_over, y_train_over, y_test_over = train_test_split(x_over, y_over, test_size = 0.2, stratify = y_over)\n",
    "\n",
    "#2nd we have to set x_train as a tagged doc, bc it will be used to train the doc2vec\n",
    "x_train_tagged_over = tag_docs(x_train_over)\n",
    "\n",
    "#now we will train the doc2vec on the training data\n",
    "doc2vec_model = train_doc2vec_model(x_train_tagged_over, vector_size = 50, min_count = 1)\n",
    "\n",
    "#here we will infer the vector values for for x_train and x_test.\n",
    "#we have to use the un-tagged x_train\n",
    "x_train_vectors_over = infer_vectors(doc2vec_model, x_train_over)\n",
    "x_test_vectors_over = infer_vectors(doc2vec_model, x_test_over)\n",
    "\n",
    "#now that we have both x_train and x_test vectorized we can train our classification model\n",
    "svc = SVC()\n",
    "svc.fit(x_train_vectors_over, y_train_over)\n",
    "print ('Test Accuracy: %.5f'%svc.score(x_test_vectors_over, y_test_over))"
   ]
  },
  {
   "cell_type": "code",
   "execution_count": 136,
   "id": "b00ad387",
   "metadata": {},
   "outputs": [
    {
     "data": {
      "text/plain": [
       "array([[395, 107, 124],\n",
       "       [ 52, 443, 131],\n",
       "       [ 46,  53, 527]], dtype=int64)"
      ]
     },
     "execution_count": 136,
     "metadata": {},
     "output_type": "execute_result"
    }
   ],
   "source": [
    "confusion_matrix(y_test_over, svc.predict(x_test_vectors_over))"
   ]
  },
  {
   "cell_type": "markdown",
   "id": "539d2ee9",
   "metadata": {},
   "source": [
    "### Searching for the best params for SVC with oversampled data"
   ]
  },
  {
   "cell_type": "code",
   "execution_count": 128,
   "id": "d5a433fc",
   "metadata": {},
   "outputs": [
    {
     "data": {
      "text/plain": [
       "GridSearchCV(estimator=SVC(),\n",
       "             param_grid={'class_weight': [None, 'balanced'],\n",
       "                         'decision_function_shape': ['ovo', 'ovr']})"
      ]
     },
     "execution_count": 128,
     "metadata": {},
     "output_type": "execute_result"
    }
   ],
   "source": [
    "#search params on SVC\n",
    "params_svc = {'class_weight':[None, 'balanced'],\n",
    "             'decision_function_shape':['ovo', 'ovr']}\n",
    "\n",
    "svc = SVC()\n",
    "\n",
    "gs_svc = GridSearchCV(svc, params_svc)\n",
    "\n",
    "gs_svc.fit(x_train_vectors_over, y_train_over)"
   ]
  },
  {
   "cell_type": "code",
   "execution_count": 129,
   "id": "bc97cec8",
   "metadata": {},
   "outputs": [
    {
     "data": {
      "text/plain": [
       "{'class_weight': None, 'decision_function_shape': 'ovo'}"
      ]
     },
     "execution_count": 129,
     "metadata": {},
     "output_type": "execute_result"
    }
   ],
   "source": [
    "#best estimator\n",
    "best_svc = gs_svc.best_estimator_\n",
    "\n",
    "gs_svc.best_params_"
   ]
  },
  {
   "cell_type": "code",
   "execution_count": 131,
   "id": "e10a2392",
   "metadata": {},
   "outputs": [
    {
     "name": "stdout",
     "output_type": "stream",
     "text": [
      "Test Accuracy: 0.72737\n"
     ]
    }
   ],
   "source": [
    "print ('Test Accuracy: %.5f'%best_svc.score(x_test_vectors_over, y_test_over))"
   ]
  },
  {
   "cell_type": "code",
   "execution_count": 139,
   "id": "119dc373",
   "metadata": {},
   "outputs": [
    {
     "name": "stdout",
     "output_type": "stream",
     "text": [
      "Train Accuracy: 0.79225\n"
     ]
    }
   ],
   "source": [
    "print ('Train Accuracy: %.5f'%best_svc.score(x_train_vectors_over, y_train_over))"
   ]
  },
  {
   "cell_type": "code",
   "execution_count": 137,
   "id": "5f54e844",
   "metadata": {},
   "outputs": [
    {
     "data": {
      "text/plain": [
       "array([[384,  44,  43],\n",
       "       [149, 456,  57],\n",
       "       [ 93, 126, 526]], dtype=int64)"
      ]
     },
     "execution_count": 137,
     "metadata": {},
     "output_type": "execute_result"
    }
   ],
   "source": [
    "confusion_matrix(best_svc.predict(x_test_vectors_over), y_test_over)"
   ]
  },
  {
   "cell_type": "markdown",
   "id": "08211018",
   "metadata": {},
   "source": [
    "### Conclusion\n",
    "\n",
    "The SVC with oversampled data presented the best performance! - searching for best params didnt optimize it"
   ]
  }
 ],
 "metadata": {
  "kernelspec": {
   "display_name": "Python 3 (ipykernel)",
   "language": "python",
   "name": "python3"
  },
  "language_info": {
   "codemirror_mode": {
    "name": "ipython",
    "version": 3
   },
   "file_extension": ".py",
   "mimetype": "text/x-python",
   "name": "python",
   "nbconvert_exporter": "python",
   "pygments_lexer": "ipython3",
   "version": "3.9.7"
  }
 },
 "nbformat": 4,
 "nbformat_minor": 5
}
